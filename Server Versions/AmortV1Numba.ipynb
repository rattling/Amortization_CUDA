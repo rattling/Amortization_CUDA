{
 "cells": [
  {
   "cell_type": "code",
   "execution_count": null,
   "metadata": {
    "collapsed": true
   },
   "outputs": [],
   "source": []
  },
  {
   "cell_type": "code",
   "execution_count": 63,
   "metadata": {
    "collapsed": false
   },
   "outputs": [],
   "source": [
    "def getSegmentsInner (start, end, cumVest,days,i):    \n",
    "    maxSlope = 0\n",
    "    for j in range(start,end):\n",
    "        if j==0:\n",
    "            tmpSlope=cumVest[i,0]/days[i,0] \n",
    "        else:\n",
    "            tmpSlope=(cumVest[i,j]-cumVest[i, j-1])/(days[i,j]-days[i,j-1])\n",
    "        if tmpSlope > maxSlope:\n",
    "            last=j\n",
    "            maxSlope=tmpSlope      \n",
    "    return last\n",
    "        \n",
    "     \n",
    "def getSegmentsOuter(end, cumVest,days, i, tmpSeg):       \n",
    "    start = 0\n",
    "    seg=0\n",
    "    while start < end:\n",
    "        last = getSegmentsInner(start, end, cumVest,days, i)\n",
    "        seg=seg+1      \n",
    "        tmpSeg[0,start:last+1]=seg\n",
    "        start=last+1\n",
    "    return tmpSeg      \n",
    "   \n",
    "def cumVestWrapper(rowCount, numTranches, shares, vals, cumVest):\n",
    "    for i in range(0,rowCount):      \n",
    "        total=0\n",
    "        # GET CUMULATIVE VESTMENT AMOUNT PER GRANT\n",
    "        for j in range(0,numTranches[i]+1):            \n",
    "            total+=shares[i,j]*vals[i,j]\n",
    "            cumVest[i,j]=total  \n",
    "    return cumVest    \n",
    " \n",
    "def segWrapper(rowCount,n, numTranches, segments, days, cumVest):\n",
    "    for i in range(0,rowCount):            \n",
    "        #ASSIGN SEGMENTS TO VESTMENT \n",
    "        #print(numTranches)   \n",
    "        tmpSeg = np.array([ [ 0 for x in range(n) ] for y in range(1) ])\n",
    "        end=numTranches[i]+1\n",
    "        segments[i,:] = getSegmentsOuter(end,cumVest,days, i, tmpSeg) \n",
    "    return segments\n",
    "    \n",
    "    \n",
    "    \n",
    "\n",
    "     \n",
    "\n",
    "\n"
   ]
  },
  {
   "cell_type": "code",
   "execution_count": 64,
   "metadata": {
    "collapsed": false
   },
   "outputs": [],
   "source": [
    "@numba.jit(nopython=True)        \n",
    "def getSegmentsInnerN (start, end, cumVest,days,i):    \n",
    "    maxSlope = 0\n",
    "    for j in range(start,end):\n",
    "        if j==0:\n",
    "            tmpSlope=cumVest[i,0]/days[i,0] \n",
    "        else:\n",
    "            tmpSlope=(cumVest[i,j]-cumVest[i, j-1])/(days[i,j]-days[i,j-1])\n",
    "        if tmpSlope > maxSlope:\n",
    "            last=j\n",
    "            maxSlope=tmpSlope      \n",
    "    return last\n",
    "        \n",
    "@numba.jit(nopython=True)        \n",
    "def getSegmentsOuterN(end, cumVest,days, i, tmpSeg):       \n",
    "    start = 0\n",
    "    seg=0\n",
    "    while start < end:\n",
    "        last = getSegmentsInnerN(start, end, cumVest,days, i)\n",
    "        seg=seg+1      \n",
    "        tmpSeg[0,start:last+1]=seg\n",
    "        start=last+1\n",
    "    return tmpSeg  \n",
    "    \n",
    "@numba.jit(nopython=True)    \n",
    "def cumVestWrapperN(rowCount, numTranches, shares, vals, cumVest):\n",
    "    for i in range(0,rowCount):      \n",
    "        total=0\n",
    "        # GET CUMULATIVE VESTMENT AMOUNT PER GRANT\n",
    "        for j in range(0,numTranches[i]+1):            \n",
    "            total+=shares[i,j]*vals[i,j]\n",
    "            cumVest[i,j]=total  \n",
    "    return cumVest\n",
    "    \n",
    "@numba.jit(nopython=True)   \n",
    "def segWrapperN(rowCount,n, numTranches, segments, days, cumVest):\n",
    "    for i in range(0,rowCount):            \n",
    "        #ASSIGN SEGMENTS TO VESTMENT \n",
    "        #print(numTranches)   \n",
    "        tmpSeg = np.array([ [ 0 for x in range(n) ] for y in range(1) ])\n",
    "        end=numTranches[i]+1\n",
    "        segments[i,:] = getSegmentsOuterN(end,cumVest,days, i, tmpSeg) \n",
    "    return segments\n",
    "    \n",
    "    \n",
    "    \n",
    "\n",
    "     \n",
    "\n",
    "\n"
   ]
  },
  {
   "cell_type": "code",
   "execution_count": 18,
   "metadata": {
    "collapsed": true
   },
   "outputs": [],
   "source": [
    "def setUp(numba_flag):\n",
    "    #START PROGRAM - MAYBE PUT THIS IN A DRIVER FUNCTION FOR A SINGLE CALL WITH PARAMETERS\n",
    "    global epsilon, shares,i, pd, np, dt, arange, base_dir, input_dir, output_dir, os, random, math, sys, time, timer, rowCount, df\n",
    "    import pandas as pd\n",
    "    import numpy as np\n",
    "    import datetime as dt\n",
    "    from numpy import arange\n",
    "    import random\n",
    "    import math\n",
    "    import os\n",
    "    import sys\n",
    "    print(sys.version)\n",
    "    import time\n",
    "    from timeit import default_timer as timer\n",
    "    #if numba_flag ==1:\n",
    "    global numba\n",
    "    import numba\n",
    "    print(\"Using Numba\")\n",
    "    print(numba.__version__)\n",
    "    \n",
    "    #Set input_dir to where your inputs files are located\n",
    "    #base_dir = r'/home/ec2-user/'\n",
    "    base_dir = '/home/ec2-user/'\n",
    "    input_dir = base_dir + 'inputs/'\n",
    "    output_dir = base_dir + 'outputs/'"
   ]
  },
  {
   "cell_type": "code",
   "execution_count": 19,
   "metadata": {
    "collapsed": true
   },
   "outputs": [],
   "source": [
    "def importData():\n",
    "    fileName='amort.csv'\n",
    "    stg= pd.read_csv(os.path.join(input_dir,fileName), parse_dates=[2,3], encoding='utf8') \n",
    "    stg['Days'] = (stg['VestDate']-stg['GrantDate']).astype(dt.timedelta).map(lambda x: np.nan if pd.isnull(x) else x.days)  \n",
    "   \n",
    "    #  Can push days diff calc into the numba piece - dependong on data format. If SAS days since 1960 would work grand\n",
    "    #   Need to deal with slight differences in periods - could mess up the segment assignment if not regularized\n",
    "    \n",
    "#    TRANSPOSE AND RENAME COLUMNS TO GET ONE ROW PER GRANT\n",
    "    df = stg.pivot_table(index=[\"GrantID\"], columns=[\"TrancheID\"])\n",
    "    newNames =[]\n",
    "    for i in range(0,df.shape[1]):\n",
    "        newNames.append(df.columns.get_level_values(0)[i]+str(df.columns.get_level_values(1)[i]))\n",
    "    df.columns=newNames  \n",
    "   \n",
    "    pd.options.display.float_format = '{:,.0f}'.format\n",
    "    return df\n",
    "        "
   ]
  },
  {
   "cell_type": "code",
   "execution_count": 70,
   "metadata": {
    "collapsed": true
   },
   "outputs": [],
   "source": [
    "def runCode():\n",
    "    \n",
    "    setUp(1)\n",
    "    df = importData() \n",
    "    df=pd.concat([df]*100000)\n",
    "    dayCols = [col for col in df if col.startswith('Day')]\n",
    "    valCols = [col for col in df if col.startswith('Share')]\n",
    "    shareCols = [col for col in df if col.startswith('Vest')]     \n",
    "    \n",
    "    shares = df[shareCols].values\n",
    "    vals = df[valCols].values\n",
    "    days =df[dayCols].values\n",
    "    n=shares.shape[1]    \n",
    "    rowCount=len(df.index)\n",
    "    \n",
    "    segments = np.zeros(shape=(rowCount, n), dtype='int64')  \n",
    "    cumVest = np.zeros(shape=(rowCount, n), dtype='int64') \n",
    "    tmpSeg= np.zeros(shape=(1, n), dtype='int64')\n",
    "    \n",
    "    #Line below might work within Numba- returns a vector which is fine or could do it per grant\n",
    "    numTranches=shares.shape[1] - (~np.isnan(shares))[:, ::-1].argmax(1) -1\n",
    "    \n",
    "    func_start = timer()    \n",
    "    cumVest=cumVestWrapper(rowCount, numTranches, shares,vals, cumVest)\n",
    "    timing=timer()-func_start\n",
    "    print(\"Function: cumVest duration (seconds):\" + str(timing))\n",
    "    \n",
    "    func_start = timer()   \n",
    "    segments=segWrapper(rowCount,n, numTranches, segments, days, cumVest)\n",
    "    timing=timer()-func_start\n",
    "    print(\"Function: segWrapper duration (seconds):\" + str(timing))\n",
    "    \n",
    "    print(cumVest)\n",
    "    print(segments)\n",
    "    \n",
    "    func_start = timer()    \n",
    "    cumVest=cumVestWrapperN(rowCount, numTranches, shares,vals, cumVest)\n",
    "    timing=timer()-func_start\n",
    "    print(\"Function: cumVestN duration (seconds):\" + str(timing))\n",
    "    \n",
    "    func_start = timer()   \n",
    "    segments=segWrapperN(rowCount,n, numTranches, segments, days, cumVest)\n",
    "    timing=timer()-func_start\n",
    "    print(\"Function: segWrapperN duration (seconds):\" + str(timing))\n",
    "    \n",
    "    print(cumVest)\n",
    "    print(segments)"
   ]
  },
  {
   "cell_type": "code",
   "execution_count": 71,
   "metadata": {
    "collapsed": false
   },
   "outputs": [
    {
     "name": "stdout",
     "output_type": "stream",
     "text": [
      "3.5.2 |Anaconda custom (64-bit)| (default, Jul  2 2016, 17:53:06) \n",
      "[GCC 4.4.7 20120313 (Red Hat 4.4.7-1)]\n",
      "Using Numba\n",
      "0.35.0\n",
      "Function: cumVest duration (seconds):1.5737980479998441\n",
      "Function: segWrapper duration (seconds):18.73935427199922\n",
      "[[100 200 400   0]\n",
      " [200 300   0   0]\n",
      " [200   0   0   0]\n",
      " ..., \n",
      " [200   0   0   0]\n",
      " [100 300 350 450]\n",
      " [200 340 440   0]]\n",
      "[[1 1 1 0]\n",
      " [1 2 0 0]\n",
      " [1 0 0 0]\n",
      " ..., \n",
      " [1 0 0 0]\n",
      " [1 1 2 2]\n",
      " [1 2 3 0]]\n",
      "Function: cumVestN duration (seconds):0.0054006079999453505\n",
      "Function: segWrapperN duration (seconds):0.1468392369997673\n",
      "[[100 200 400   0]\n",
      " [200 300   0   0]\n",
      " [200   0   0   0]\n",
      " ..., \n",
      " [200   0   0   0]\n",
      " [100 300 350 450]\n",
      " [200 340 440   0]]\n",
      "[[1 1 1 0]\n",
      " [1 2 0 0]\n",
      " [1 0 0 0]\n",
      " ..., \n",
      " [1 0 0 0]\n",
      " [1 1 2 2]\n",
      " [1 2 3 0]]\n"
     ]
    }
   ],
   "source": [
    "runCode()"
   ]
  },
  {
   "cell_type": "code",
   "execution_count": 34,
   "metadata": {
    "collapsed": false
   },
   "outputs": [
    {
     "ename": "NameError",
     "evalue": "name 'tmpSeg' is not defined",
     "output_type": "error",
     "traceback": [
      "\u001b[1;31m---------------------------------------------------------------------------\u001b[0m",
      "\u001b[1;31mNameError\u001b[0m                                 Traceback (most recent call last)",
      "\u001b[1;32m<ipython-input-34-8546c21ae764>\u001b[0m in \u001b[0;36m<module>\u001b[1;34m()\u001b[0m\n\u001b[1;32m----> 1\u001b[1;33m \u001b[0mnp\u001b[0m\u001b[1;33m.\u001b[0m\u001b[0mzeros\u001b[0m\u001b[1;33m(\u001b[0m\u001b[0mtmpSeg\u001b[0m\u001b[1;33m)\u001b[0m\u001b[1;33m\u001b[0m\u001b[0m\n\u001b[0m\u001b[0;32m      2\u001b[0m \u001b[0mprint\u001b[0m\u001b[1;33m(\u001b[0m\u001b[0mtmpSeg\u001b[0m\u001b[1;33m)\u001b[0m\u001b[1;33m\u001b[0m\u001b[0m\n",
      "\u001b[1;31mNameError\u001b[0m: name 'tmpSeg' is not defined"
     ]
    }
   ],
   "source": [
    "\n",
    "np.zeros(tmpSeg)\n",
    "print(tmpSeg)"
   ]
  },
  {
   "cell_type": "code",
   "execution_count": 41,
   "metadata": {
    "collapsed": false
   },
   "outputs": [],
   "source": [
    "segments = np.zeros(shape=(4,5), dtype='int64')\n",
    "segments.fill(3)\n",
    "\n"
   ]
  },
  {
   "cell_type": "code",
   "execution_count": 42,
   "metadata": {
    "collapsed": false
   },
   "outputs": [
    {
     "name": "stdout",
     "output_type": "stream",
     "text": [
      "[[3 3 3 3 3]\n",
      " [3 3 3 3 3]\n",
      " [3 3 3 3 3]\n",
      " [3 3 3 3 3]]\n"
     ]
    }
   ],
   "source": [
    "print(segments)"
   ]
  },
  {
   "cell_type": "code",
   "execution_count": 39,
   "metadata": {
    "collapsed": true
   },
   "outputs": [],
   "source": [
    "segments=3"
   ]
  },
  {
   "cell_type": "code",
   "execution_count": 40,
   "metadata": {
    "collapsed": false
   },
   "outputs": [
    {
     "name": "stdout",
     "output_type": "stream",
     "text": [
      "3\n"
     ]
    }
   ],
   "source": [
    "print(segments)"
   ]
  },
  {
   "cell_type": "code",
   "execution_count": null,
   "metadata": {
    "collapsed": true
   },
   "outputs": [],
   "source": [
    "segments = np.zeros(shape=(4,5), dtype='int64')\n",
    "segments.fill(3)\n",
    "segments=[3]\n"
   ]
  },
  {
   "cell_type": "code",
   "execution_count": 51,
   "metadata": {
    "collapsed": true
   },
   "outputs": [],
   "source": [
    "\n",
    "segments = np.array([ [ 0 for x in range(n) ] for y in range(1) ])"
   ]
  },
  {
   "cell_type": "code",
   "execution_count": 52,
   "metadata": {
    "collapsed": false
   },
   "outputs": [
    {
     "data": {
      "text/plain": [
       "array([[0, 0, 0, 0]])"
      ]
     },
     "execution_count": 52,
     "metadata": {},
     "output_type": "execute_result"
    }
   ],
   "source": [
    "segments\n"
   ]
  },
  {
   "cell_type": "code",
   "execution_count": 69,
   "metadata": {
    "collapsed": false
   },
   "outputs": [
    {
     "ename": "NameError",
     "evalue": "name 'df' is not defined",
     "output_type": "error",
     "traceback": [
      "\u001b[1;31m---------------------------------------------------------------------------\u001b[0m",
      "\u001b[1;31mNameError\u001b[0m                                 Traceback (most recent call last)",
      "\u001b[1;32m<ipython-input-69-f4f1d136158c>\u001b[0m in \u001b[0;36m<module>\u001b[1;34m()\u001b[0m\n\u001b[1;32m----> 1\u001b[1;33m \u001b[0mdf\u001b[0m\u001b[1;33m=\u001b[0m\u001b[0mpd\u001b[0m\u001b[1;33m.\u001b[0m\u001b[0mconcat\u001b[0m\u001b[1;33m(\u001b[0m\u001b[1;33m[\u001b[0m\u001b[0mdf\u001b[0m\u001b[1;33m]\u001b[0m\u001b[1;33m*\u001b[0m\u001b[1;36m5\u001b[0m\u001b[1;33m)\u001b[0m\u001b[1;33m\u001b[0m\u001b[0m\n\u001b[0m",
      "\u001b[1;31mNameError\u001b[0m: name 'df' is not defined"
     ]
    }
   ],
   "source": [
    " df=pd.concat([df]*5)"
   ]
  },
  {
   "cell_type": "code",
   "execution_count": null,
   "metadata": {
    "collapsed": true
   },
   "outputs": [],
   "source": []
  }
 ],
 "metadata": {
  "anaconda-cloud": {},
  "kernelspec": {
   "display_name": "Python [Root]",
   "language": "python",
   "name": "Python [Root]"
  },
  "language_info": {
   "codemirror_mode": {
    "name": "ipython",
    "version": 3
   },
   "file_extension": ".py",
   "mimetype": "text/x-python",
   "name": "python",
   "nbconvert_exporter": "python",
   "pygments_lexer": "ipython3",
   "version": "3.5.2"
  }
 },
 "nbformat": 4,
 "nbformat_minor": 0
}
